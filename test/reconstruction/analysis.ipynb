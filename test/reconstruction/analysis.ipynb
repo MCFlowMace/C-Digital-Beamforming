{
 "cells": [
  {
   "cell_type": "code",
   "execution_count": null,
   "metadata": {},
   "outputs": [],
   "source": [
    "import numpy as np\n",
    "import matplotlib.pyplot as plt\n",
    "from test_reconstruction import *\n",
    "from scipy.fft import rfft\n",
    "import pyreconstruction"
   ]
  },
  {
   "cell_type": "code",
   "execution_count": null,
   "metadata": {},
   "outputs": [],
   "source": [
    "R=5\n",
    "r=0.0\n",
    "w0=26.0016\n",
    "phi = 0.\n",
    "snr=0.05\n",
    "seed=-1\n",
    "n_samples=1000\n",
    "grid_size=97\n",
    "N = 30"
   ]
  },
  {
   "cell_type": "code",
   "execution_count": null,
   "metadata": {},
   "outputs": [],
   "source": [
    "def polar_conv(x, y):\n",
    "    r = np.sqrt(x**2 + y**2)\n",
    "    phi = np.arctan2(y,x)\n",
    "    return r, phi"
   ]
  },
  {
   "cell_type": "code",
   "execution_count": null,
   "metadata": {},
   "outputs": [],
   "source": [
    "coord = (np.arange(grid_size)+0.5)/grid_size*2*R -R\n",
    "print(coord)\n",
    "xx = np.array(np.meshgrid(coord,coord)).T.reshape(-1, 2)\n",
    "plt.plot(xx[:,0], xx[:,1], ls='None', marker='+')\n",
    "plt.show()"
   ]
  },
  {
   "cell_type": "code",
   "execution_count": null,
   "metadata": {
    "scrolled": true
   },
   "outputs": [],
   "source": [
    "phase_map = np.zeros(shape=(grid_size, grid_size))\n",
    "\n",
    "for i in range(grid_size):\n",
    "    for j in range(grid_size):\n",
    "        x = coord[i]\n",
    "        y = coord[j]\n",
    "        if (x**2 + y**2)<R*R :\n",
    "            r, phi = polar_conv(x, y)\n",
    "            signal, noise = pyreconstruction.py_run(grid_size, n_samples, snr, seed, 1, r, phi, w0, N)\n",
    "            res = np.angle(signal[j,i,438])\n",
    "            phase_map[j,i] = res\n",
    "            #plot_result(R, np.abs(signal[:,:,438])**2, \"\", False)\n"
   ]
  },
  {
   "cell_type": "code",
   "execution_count": null,
   "metadata": {},
   "outputs": [],
   "source": [
    "im = plt.imshow(phase_map)\n",
    "cbar = plt.colorbar(im)\n",
    "cbar.ax.set_ylabel('phase')\n",
    "plt.savefig('phase_map.pdf')"
   ]
  },
  {
   "cell_type": "code",
   "execution_count": null,
   "metadata": {},
   "outputs": [],
   "source": [
    "signal, noise = pyreconstruction.py_run(grid_size, n_samples, snr, seed, 1, r, phi, w0, N)"
   ]
  },
  {
   "cell_type": "code",
   "execution_count": null,
   "metadata": {},
   "outputs": [],
   "source": [
    "noise_c = np.abs(noise)\n",
    "noise_c[noise_c==0] = np.nan\n",
    "#means = np.nanmean(noise_c, axis=(1,2))\n",
    "mean = np.nanmean(noise_c)\n",
    "noise /= mean\n",
    "signal /= mean"
   ]
  },
  {
   "cell_type": "code",
   "execution_count": null,
   "metadata": {},
   "outputs": [],
   "source": [
    "max_vals_s = np.max(np.abs(signal)**2, axis=(0,1))\n",
    "max_vals_n = np.max(np.abs(noise)**2, axis=(0,1))"
   ]
  },
  {
   "cell_type": "code",
   "execution_count": null,
   "metadata": {},
   "outputs": [],
   "source": [
    "phases = []\n",
    "for i in range(signal.shape[-1]):\n",
    "    max_ind = np.unravel_index(np.argmax(np.abs(signal[:,:,i])), signal[:,:,0].shape)\n",
    "    phases.append(np.angle(signal[max_ind[0], max_ind[1], i]))\n",
    "\n",
    "phases_np = np.array(phases)\n",
    "print(phases[437], phases[438])\n",
    "ind = np.abs(phases_np+np.pi/2)>0.05"
   ]
  },
  {
   "cell_type": "code",
   "execution_count": null,
   "metadata": {},
   "outputs": [],
   "source": [
    "plt.plot(max_vals_s, label='signal')\n",
    "#plt.plot(max_vals_n, label='noise')\n",
    "plt.xlabel('frequency')\n",
    "plt.ylabel('SNR')\n",
    "#plt.legend(loc='best')\n",
    "#plt.savefig(\"frequency_snr_signal.pdf\")\n",
    "plt.show()\n",
    "plt.show()\n",
    "\n",
    "#max_vals_s[ind] = 0\n",
    "\n",
    "#plt.plot(max_vals_s, label='signal')\n",
    "plt.plot(max_vals_n, label='noise')\n",
    "plt.xlabel('frequency')\n",
    "plt.ylabel('SNR')\n",
    "#plt.legend(loc='best')\n",
    "#plt.savefig(\"frequency_snr_noise.pdf\")\n",
    "plt.show()\n",
    "ind_max = np.argmax(max_vals_s)\n",
    "ind_max_n = np.argmax(max_vals_n)\n",
    "print(ind_max, ind_max_n)"
   ]
  },
  {
   "cell_type": "code",
   "execution_count": null,
   "metadata": {},
   "outputs": [],
   "source": [
    "plt.plot(np.unwrap(np.angle(signal[50,85,:])*2)/2)\n",
    "plt.show()\n",
    "\n",
    "plt.plot(np.angle(signal[50,0,:]))\n",
    "plt.show()\n",
    "\n",
    "print(np.angle(signal[50,0,438]))\n",
    "\n",
    "plt.plot(np.abs(signal[50,85,:]))\n",
    "plt.show()"
   ]
  },
  {
   "cell_type": "code",
   "execution_count": null,
   "metadata": {
    "scrolled": false
   },
   "outputs": [],
   "source": [
    "plot_result(R, np.abs(signal[:,:,ind_max])**2, \"wrong_f.pdf\", False)\n",
    "plot_result(R, np.angle(signal[:,:,ind_max]), \"\", False)\n",
    "print(ind_max)\n",
    "plot_result(R, np.abs(signal[:,:,438])**2, \"correct_f.pdf\", False)\n",
    "plot_result(R, np.angle(signal[:,:,438]), \"\", False)\n",
    "\n",
    "plot_result(R, np.abs(noise[:,:,10])**2, \"just_noise.pdf\", False)\n",
    "plot_result(R, np.angle(noise[:,:,10]), \"\", False)"
   ]
  },
  {
   "cell_type": "code",
   "execution_count": null,
   "metadata": {},
   "outputs": [],
   "source": [
    "data_freq = fft2(signal, axes=(0,1))\n",
    "plt.plot(np.max(np.abs(data_freq),axis=(0,1)))\n",
    "plt.show()\n",
    "max_ind = np.argmax(np.abs(data_freq[0,0]))\n",
    "print(max_ind)"
   ]
  },
  {
   "cell_type": "code",
   "execution_count": null,
   "metadata": {},
   "outputs": [],
   "source": [
    "data_freq = fftshift(fft2(signal[:,:,ind_max]))\n",
    "\n",
    "fig, ax = plt.subplots()\n",
    "ax.set_aspect('equal')\n",
    "im = ax.imshow(np.transpose(np.abs(data_freq)), origin='lower')\n",
    "fig.colorbar(im)\n",
    "plt.savefig('2ddft_noise.pdf')\n",
    "plt.show()\n",
    "\n",
    "data_freq = fftshift(fft2(signal[:,:,438]))\n",
    "\n",
    "fig, ax = plt.subplots()\n",
    "ax.set_aspect('equal')\n",
    "im = ax.imshow(np.transpose(np.abs(data_freq)), origin='lower')\n",
    "fig.colorbar(im)\n",
    "plt.savefig('2ddft_signal.pdf')\n",
    "plt.show()"
   ]
  },
  {
   "cell_type": "code",
   "execution_count": null,
   "metadata": {},
   "outputs": [],
   "source": []
  }
 ],
 "metadata": {
  "kernelspec": {
   "display_name": "Python 3",
   "language": "python",
   "name": "python3"
  },
  "language_info": {
   "codemirror_mode": {
    "name": "ipython",
    "version": 3
   },
   "file_extension": ".py",
   "mimetype": "text/x-python",
   "name": "python",
   "nbconvert_exporter": "python",
   "pygments_lexer": "ipython3",
   "version": "3.8.0"
  }
 },
 "nbformat": 4,
 "nbformat_minor": 4
}
