{
 "cells": [
  {
   "cell_type": "code",
   "execution_count": null,
   "metadata": {},
   "outputs": [],
   "source": [
    "import numpy as np\n",
    "import matplotlib.pyplot as plt\n",
    "from test_reconstruction import *\n",
    "from scipy.fft import rfft"
   ]
  },
  {
   "cell_type": "code",
   "execution_count": null,
   "metadata": {},
   "outputs": [],
   "source": [
    "binary = \"../../bin/reconstruction \"\n",
    "R=5\n",
    "r=2.0\n",
    "w0=26.0#0016\n",
    "phi = 0.\n",
    "snr=0.1\n",
    "seed=-1\n",
    "n_samples=1000\n",
    "grid_size=25\n",
    "N = 30"
   ]
  },
  {
   "cell_type": "code",
   "execution_count": null,
   "metadata": {},
   "outputs": [],
   "source": [
    "data = run_reconstruction(binary, grid_size, n_samples, snr, seed, r, phi, w0, N)\n",
    "signal = data[:data.shape[0]//2]\n",
    "noise = data[data.shape[0]//2:]"
   ]
  },
  {
   "cell_type": "code",
   "execution_count": null,
   "metadata": {},
   "outputs": [],
   "source": [
    "noise_c = noise.copy()\n",
    "noise_c[noise_c==0] = np.nan\n",
    "#means = np.nanmean(noise_c, axis=(1,2))\n",
    "mean = np.nanmean(noise_c)\n",
    "noise /= mean\n",
    "signal /= mean"
   ]
  },
  {
   "cell_type": "code",
   "execution_count": null,
   "metadata": {
    "scrolled": true
   },
   "outputs": [],
   "source": [
    "plot_result(R, signal[437], \"\", False)"
   ]
  },
  {
   "cell_type": "code",
   "execution_count": null,
   "metadata": {},
   "outputs": [],
   "source": [
    "max_ind = np.unravel_index(signal.argmax(), signal.shape)\n",
    "print(max_ind)"
   ]
  },
  {
   "cell_type": "code",
   "execution_count": null,
   "metadata": {},
   "outputs": [],
   "source": [
    "data_freq = fftshift(fft2(signal[438]))\n",
    "\n",
    "fig, ax = plt.subplots()\n",
    "ax.set_aspect('equal')\n",
    "im = ax.imshow(np.transpose(np.abs(data_freq)), origin='lower')\n",
    "fig.colorbar(im)\n",
    "plt.show()\n",
    "\n",
    "data_freq = fftshift(fft2(signal[0]))\n",
    "\n",
    "fig, ax = plt.subplots()\n",
    "ax.set_aspect('equal')\n",
    "im = ax.imshow(np.transpose(np.abs(data_freq)), origin='lower')\n",
    "fig.colorbar(im)\n",
    "plt.show()"
   ]
  },
  {
   "cell_type": "code",
   "execution_count": null,
   "metadata": {},
   "outputs": [],
   "source": []
  }
 ],
 "metadata": {
  "kernelspec": {
   "display_name": "Python 3",
   "language": "python",
   "name": "python3"
  },
  "language_info": {
   "codemirror_mode": {
    "name": "ipython",
    "version": 3
   },
   "file_extension": ".py",
   "mimetype": "text/x-python",
   "name": "python",
   "nbconvert_exporter": "python",
   "pygments_lexer": "ipython3",
   "version": "3.8.0"
  }
 },
 "nbformat": 4,
 "nbformat_minor": 4
}
